{
 "cells": [
  {
   "cell_type": "code",
   "execution_count": 1,
   "metadata": {},
   "outputs": [],
   "source": [
    "import numpy as np\n",
    "import matplotlib.pyplot as plt\n",
    "import random\n",
    "import time\n",
    "\n",
    "# Defining Actions\n",
    "STILL = 0\n",
    "FORWARDS = 1\n",
    "BACKWARDS = -1\n",
    "motion_list = [STILL, FORWARDS, BACKWARDS]\n",
    "\n",
    "NOT_TURN = 0\n",
    "TURN_LEFT = -1\n",
    "TURN_RIGHT = 1\n",
    "turn_list = [NOT_TURN, TURN_LEFT, TURN_RIGHT]\n",
    "\n",
    "GOAL = (5, 6)\n",
    "\n",
    "# Define grid world\n",
    "L = 8\n",
    "W = 8"
   ]
  },
  {
   "cell_type": "code",
   "execution_count": 2,
   "metadata": {},
   "outputs": [],
   "source": [
    "#状态空间\n",
    "S = []\n",
    "for x in range(L):\n",
    "    for y in range (W):\n",
    "        for h in range(12):\n",
    "            S.append((x, y, h))"
   ]
  },
  {
   "cell_type": "code",
   "execution_count": 3,
   "metadata": {},
   "outputs": [],
   "source": [
    "#动作空间\n",
    "A = []\n",
    "for motion in motion_list:\n",
    "    if motion != STILL:\n",
    "        for turn in turn_list:\n",
    "            A.append((motion, turn))\n",
    "    else:\n",
    "        A.append((STILL, NOT_TURN))"
   ]
  },
  {
   "cell_type": "code",
   "execution_count": 4,
   "metadata": {},
   "outputs": [],
   "source": [
    "#奖励\n",
    "def reward(s):\n",
    "    # Border states (Red, marked X)\n",
    "    if s[0] == 0 or s[0] == L - 1 or s[1] == 0 or s[1] == W - 1:\n",
    "        return -100\n",
    "\n",
    "    # Lane Markers (Yellow, marked --)\n",
    "    elif s[0] == 3 and s[1] in [4, 5, 6]:\n",
    "        return -10\n",
    "\n",
    "    # Goal state (Green, marked *)\n",
    "    elif s[0] == GOAL[0] and s[1] == GOAL[1]:\n",
    "        return 1\n",
    "\n",
    "    # Every other state has reward 0\n",
    "    else:\n",
    "        return 0"
   ]
  },
  {
   "cell_type": "code",
   "execution_count": null,
   "metadata": {},
   "outputs": [],
   "source": [
    "#状态转移概率\n",
    "def p_sa(s, a, s_, pe):"
   ]
  },
  {
   "cell_type": "code",
   "execution_count": null,
   "metadata": {},
   "outputs": [],
   "source": [
    "#策略初始化\n",
    "def policy_init(S):"
   ]
  },
  {
   "cell_type": "code",
   "execution_count": null,
   "metadata": {},
   "outputs": [],
   "source": [
    "#策略迭代\n",
    "def policy_iteration(S, V, policy, reward, pe = 0, discount_factor = 1.0):"
   ]
  },
  {
   "cell_type": "code",
   "execution_count": null,
   "metadata": {},
   "outputs": [],
   "source": [
    "#值迭代\n",
    "def value_iteration(S, policy, reward, pe = 0, discount_factor = 0.9, threshold = 1):"
   ]
  }
 ],
 "metadata": {
  "kernelspec": {
   "display_name": "Python 3",
   "language": "python",
   "name": "python3"
  },
  "language_info": {
   "codemirror_mode": {
    "name": "ipython",
    "version": 3
   },
   "file_extension": ".py",
   "mimetype": "text/x-python",
   "name": "python",
   "nbconvert_exporter": "python",
   "pygments_lexer": "ipython3",
   "version": "3.7.6"
  }
 },
 "nbformat": 4,
 "nbformat_minor": 4
}
