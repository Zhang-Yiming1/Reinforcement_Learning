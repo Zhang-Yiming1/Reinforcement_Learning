{
 "cells": [
  {
   "cell_type": "code",
   "execution_count": 1,
   "metadata": {},
   "outputs": [],
   "source": [
    "import numpy as np\n",
    "import matplotlib.pyplot as plt\n",
    "import math\n",
    "import random\n",
    "import time\n",
    "\n",
    "# Define robot shape\n",
    "R = 25      # unit: mm, radius of the wheels\n",
    "L = 100     # unit: mm, length of the robot\n",
    "W = 90      # unit: mm, width of the robot\n",
    "\n",
    "C = 2 * math.pi * R    # unit: mm, circumference of the wheels\n",
    "\n",
    "# Maximum values\n",
    "wmax = 1    # unit: RPS (rotations per second), maximum angular velocity of the wheels\n",
    "vx_max = vy_max = C * wmax    # unit: mm/s, maxium velocity of the robot in the direction of x and y\n",
    "wmax_robot = 2 * C * wmax / W      # unit: rad/s, maximum angular velocity of the robot. = max{C * (w1 - w2) / W} = 2 * C * wmax / W (w1, w2 unit: RPS)\n",
    "\n",
    "show_animation = True\n"
   ]
  },
  {
   "cell_type": "code",
   "execution_count": 2,
   "metadata": {},
   "outputs": [],
   "source": [
    "m = 5000   # unit: mm, length of the map\n",
    "n = 5000   # unit: mm, width of the map"
   ]
  },
  {
   "cell_type": "code",
   "execution_count": 4,
   "metadata": {},
   "outputs": [],
   "source": [
    "obstacles = []\n",
    "# borders of the map\n",
    "obstacles.append([2 * L, 20, 20, m - 2 * L, -90])\n",
    "obstacles.append([0, 2 * L, 20, n - 2 * L, 0])\n",
    "obstacles.append([0, n, 20, m, -90])\n",
    "obstacles.append([m - 20, 0, 20, n, 0])\n",
    "\n",
    "# restrictions in parking spot\n",
    "obstacles.append([800, 500, 400, 1500, 0])\n",
    "obstacles.append([800, 3000, 400, 1500, 0])\n",
    "obstacles.append([1900, 500, 200, 1200, 0])\n",
    "obstacles.append([2900, 500, 200, 1200, 0])\n",
    "obstacles.append([1900, 3300, 200, 1200, 0])\n",
    "obstacles.append([2900, 3300, 200, 1200, 0])\n",
    "obstacles.append([2000, 2600, 200, 2000, -90])\n",
    "obstacles.append([3500, 4100, 200, 1200, -90])\n",
    "obstacles.append([3500, 1100, 200, 1200, -90])"
   ]
  },
  {
   "cell_type": "code",
   "execution_count": 5,
   "metadata": {},
   "outputs": [],
   "source": [
    "# start state: s0 = [x0, y0, θ0]\n",
    "s0 = [0, 0, 0]\n",
    "\n",
    "# target state: st = [xt, yt, θt]\n",
    "st = [4000, 3000, math.pi / 2]"
   ]
  },
  {
   "cell_type": "code",
   "execution_count": 6,
   "metadata": {},
   "outputs": [],
   "source": [
    "# RRT node\n",
    "class Node():\n",
    "    def __init__(self, state):\n",
    "        self.state = state\n",
    "        self.path = []\n",
    "        self.parent = None\n",
    "        self.t = 0"
   ]
  },
  {
   "cell_type": "code",
   "execution_count": 7,
   "metadata": {},
   "outputs": [],
   "source": [
    "def find_closestNode(V, xt):\n",
    "    # V: a set of RRT points. V = {v}, v is a Node class, v.state = (x, y, theta) in C-space\n",
    "    # xt: a single target point. xt = (x_t, y_t, theta_t)\n",
    "    # Return: the closest node to the target point xt inside the set V\n",
    "\n",
    "    closest_node = V[0]\n",
    "    # By dividing by the maximum value of each motion, the weighted distance of three different dimensions that the robot can reach is normalized.\n",
    "    # numpy.linalg.norm\n",
    "    weighted_dist = ((V[0].state[0] - xt[0]) / vx_max) ** 2 + ((V[0].state[1] - xt[1]) / vy_max) ** 2 + ((V[0].state[2] - xt[2]) / wmax_robot) ** 2\n",
    "\n",
    "    for point in V:\n",
    "        dist = ((point.state[0] - xt[0]) / vx_max) ** 2 + ((point.state[1] - xt[1]) / vy_max) ** 2 + ((point.state[2] - xt[2]) / wmax_robot) ** 2\n",
    "        if dist < weighted_dist:\n",
    "            closest_node = point\n",
    "            weighted_dist = dist\n",
    "    return closest_node"
   ]
  },
  {
   "cell_type": "code",
   "execution_count": 8,
   "metadata": {},
   "outputs": [],
   "source": [
    "def generate_trajectory(xi, xt):\n",
    "    trajectory = []\n",
    "    trajectory.append(xi)\n",
    "\n",
    "    # control inputs of two wheels\n",
    "    inputs = []\n",
    "\n",
    "    # remaining time within one second, updated after each step\n",
    "    remain_time = 1\n",
    "\n",
    "    # end point of each step\n",
    "    end = [xi[0], xi[1], 0]\n",
    "\n",
    "    # start-to-goal vector\n",
    "    diff_x = xt[0] - xi[0]\n",
    "    diff_y = xt[1] - xi[1]\n",
    "    diff_dist = math.sqrt(diff_x ** 2 + diff_y ** 2)\n",
    "\n",
    "    # angle between +x and start-to-goal vector, angle ∈ [-pi, pi]\n",
    "    angle = np.arctan2(diff_y, diff_x)\n",
    "\n",
    "    # step 1: rotate towards (or back to) the target position\n",
    "    diff_angle = (xi[2] - angle) % math.pi\n",
    "    if diff_angle <= math.pi / 2:\n",
    "        end[2] = xi[2] - diff_angle\n",
    "    else:\n",
    "        end[2] = xi[2] + (math.pi - diff_angle)\n",
    "    end[2] = end[2] % (2 * math.pi)\n",
    "    trajectory.append(end)\n",
    "    # print(trajectory)\n",
    "\n",
    "    # calculate remaining time after step 1\n",
    "    required_time = diff_angle % (math.pi / 2) / wmax_robot\n",
    "    remain_time = 1 - required_time\n",
    "    inputs.append((-wmax, wmax, required_time))\n",
    "\n",
    "    # calculate required time for step 2\n",
    "    required_time = diff_dist / C\n",
    "    end = [end[0], end[1], end[2]]      # update list pointer\n",
    "\n",
    "    # if not enough time for step 2 (to reach the target after rotation)\n",
    "    if remain_time < required_time:\n",
    "        dist = remain_time * C\n",
    "        end = [xi[0] + dist * math.cos(angle), xi[1] + dist * math.sin(angle), end[2]]\n",
    "        trajectory.append(end)\n",
    "        inputs.append((wmax, wmax, remain_time))\n",
    "        # print(trajectory)\n",
    "\n",
    "    # if the robot has enough time to reach the target after rotation\n",
    "    else:\n",
    "        end = [xt[0], xt[1], end[2]]\n",
    "        trajectory.append(end)\n",
    "        inputs.append((wmax, wmax, required_time))\n",
    "        # print(trajectory)\n",
    "\n",
    "        # for the remaining time, do the step 3 (rotate to the orientation of the target state)\n",
    "        end = [xt[0], xt[1], end[2]]\n",
    "        remain_time -= required_time\n",
    "        diff_angle = end[2] - xt[2]\n",
    "        if math.pi <= diff_angle <= 2 * math.pi:\n",
    "            diff_angle = diff_angle - 2 * math.pi\n",
    "        elif -2 * math.pi <= diff_angle <= -math.pi:\n",
    "            diff_angle = diff_angle + 2 * math.pi\n",
    "        required_time = abs(diff_angle) / wmax_robot\n",
    "\n",
    "        # if have enough time for step 3, then arrive at the target state\n",
    "        if remain_time >= required_time:\n",
    "            trajectory.append(xt)\n",
    "            inputs.append((-wmax, wmax, required_time))\n",
    "            # print(trajectory)\n",
    "\n",
    "        # if not enough time for step 3\n",
    "        else:\n",
    "            if 0 <= diff_angle <= math.pi:\n",
    "               end[2] = end[2] - wmax_robot * remain_time\n",
    "            else:\n",
    "                end[2] = end[2] + wmax_robot * remain_time\n",
    "            trajectory.append(end)\n",
    "            inputs.append((-wmax, wmax, remain_time))\n",
    "            # print(trajectory)\n",
    "    return trajectory, inputs"
   ]
  },
  {
   "cell_type": "code",
   "execution_count": 9,
   "metadata": {},
   "outputs": [],
   "source": [
    "# cross product of vector p1-to-p2 and p1-to-p3\n",
    "def cross(p1, p2, p3):\n",
    "    # p1, p2, p3 are points in the configuration space\n",
    "    # can also use np.cross(p2 - p1, p3 - p1)[2] to return the same value\n",
    "    x1 = p2[0] - p1[0]\n",
    "    y1 = p2[1] - p1[1]\n",
    "    x2 = p3[0] - p1[0]\n",
    "    y2 = p3[1] - p1[1]\n",
    "    return x1 * y2 - x2 * y1\n",
    "\n",
    "# determine whether two line segments are intersecting\n",
    "def isIntersec(p1, p2, p3, p4):\n",
    "    # (p1, p2) defines line 1, (p3, p4) defines line 2\n",
    "    # If there is an intersection p0, then p0 is on both lines, so min{p1, p2} <= p0 <= max{p1, p2} and min{p3, p4} <= p0 <= max{p3, p4} are satisfied for both x component and y component\n",
    "    if (max(p1[0], p2[0]) >= min(p3[0], p4[0]) \n",
    "        and max(p3[0], p4[0]) >= min(p1[0], p2[0]) \n",
    "        and max(p1[1], p2[1]) >= min(p3[1], p4[1]) \n",
    "        and max(p3[1], p4[1]) >= min(p1[1], p2[1])): \n",
    "\n",
    "        # if two line segments are intersecting, p3 and p4 are in different sides of the line (p1, p2), p1 and p2 are in different sides of the line (p3, p4)\n",
    "        if (cross(p1, p2, p3) * cross(p1, p2, p4) <= 0\n",
    "           and cross(p3, p4, p1) * cross(p3, p4, p2) <= 0):\n",
    "            result = True\n",
    "        else:\n",
    "            result = False\n",
    "    else:\n",
    "        result = False\n",
    "    return result\n",
    "\n",
    "# determine whether two rectangles have intersections\n",
    "def isCollisionRectangle(Rectangle1, Rectangle2):\n",
    "    # Rectangle: [[x1, y1], [x2, y2], [x3, y3], [x4, y4]]\n",
    "    # four corners must be clockwise or anticlockwise\n",
    "\n",
    "    collision = False\n",
    "    for i in range(4):\n",
    "        for j in range(4):\n",
    "            collision = collision or isIntersec(Rectangle1[i], Rectangle1[(i + 1) % 4], Rectangle2[j], Rectangle2[(j + 1) % 4])\n",
    "            if collision:\n",
    "                break\n",
    "        if collision:\n",
    "            break\n",
    "    return collision\n",
    "\n",
    "# determine whether the trajectory is collision free\n",
    "def isCollisionTrajectory(trajectory, obstacles):\n",
    "    collision = False\n",
    "    n = len(trajectory)\n",
    "    for i in range(n - 1):\n",
    "        x = trajectory[i][0]\n",
    "        y = trajectory[i][1]\n",
    "        z = trajectory[i][2]\n",
    "        x1 = trajectory[i + 1][0]\n",
    "        y1 = trajectory[i + 1][1]\n",
    "        z1 = trajectory[i + 1][2]\n",
    "\n",
    "        # divide the trajectory into certain steps (10 steps for now), treat all motion curves as small line segments\n",
    "        steps = 10\n",
    "        for j in range(steps):\n",
    "            xt = j * (x1 - x) / (steps - 1) + x\n",
    "            yt = j * (y1 - y) / (steps - 1) + y\n",
    "            zt = j * (z1 - z) / (steps - 1) + z\n",
    "\n",
    "            # four vertices of the robot\n",
    "            p1 = [xt + R * math.cos(zt) + W / 2 * math.sin(zt), yt + R * math.sin(zt) - W / 2 * math.cos(zt)]\n",
    "            p2 = [p1[0] - L * math.cos(zt), p1[1] - L * math.sin(zt)]\n",
    "            p3 = [p2[0] - W * math.sin(zt), p2[1] + W * math.cos(zt)]\n",
    "            p4 = [p3[0] + L * math.cos(zt), p3[1] + L * math.sin(zt)]\n",
    "\n",
    "            for obstacle in obstacles:\n",
    "                w = obstacle[2]\n",
    "                h = obstacle[3]\n",
    "                zeta = obstacle[4] / 180 * math.pi\n",
    "                # four vertices of the obstacle\n",
    "                p5 = [obstacle[0], obstacle[1]]\n",
    "                p6 = [p5[0] - h * math.sin(zeta), p5[1] + h * math.cos(zeta)]\n",
    "                p7 = [p6[0] + w * math.cos(zeta), p6[1] + w * math.sin(zeta)]\n",
    "                p8 = [p7[0] + h * math.sin(zeta), p7[1] - h * math.cos(zeta)]\n",
    "\n",
    "                # determine whether the trajectory is collision free\n",
    "                collision = collision or isCollisionRectangle([p1, p2, p3, p4], [p5, p6, p7, p8])\n",
    "    return collision"
   ]
  },
  {
   "cell_type": "code",
   "execution_count": 10,
   "metadata": {},
   "outputs": [],
   "source": [
    "def RRT(s0, s1, obstacles):\n",
    "    V = [Node(s0)]\n",
    "    end = Node(s0)\n",
    "\n",
    "    # while can't move from present end to the target state in one second\n",
    "    while ((end.state[0] - s1[0]) / vx_max) ** 2 + ((end.state[1] - s1[1]) / vy_max) ** 2 + ((end.state[2] - s1[2]) / wmax_robot) ** 2 >= 1:\n",
    "\n",
    "        # generate a random point in the configuration space\n",
    "        randompoint = [random.uniform(0, m), random.uniform(0, n), random.uniform(0, 2 * math.pi)]\n",
    "        start = find_closestNode(V, randompoint)\n",
    "\n",
    "        # generate a trajectory from the closest start point to the random end point\n",
    "        trajectory = generate_trajectory(start.state, randompoint)[0]\n",
    "\n",
    "        # if not collision, add it into V\n",
    "        if not isCollisionTrajectory(trajectory, obstacles):\n",
    "            end = Node(trajectory[-1])\n",
    "            end.parent = start\n",
    "            V.append(end)\n",
    "        if len(V) > 10000:\n",
    "            break\n",
    "    # print(len(V))\n",
    "\n",
    "    trajectory = [end.state]\n",
    "    while (end.parent != None):\n",
    "        trajectory.append(end.parent.state)\n",
    "        end = end.parent\n",
    "    return trajectory, V\n"
   ]
  },
  {
   "cell_type": "code",
   "execution_count": 11,
   "metadata": {},
   "outputs": [],
   "source": [
    "def plotTrajectory(trajectory, ax):\n",
    "    for point in trajectory:\n",
    "        # plot the robot\n",
    "        x = point[0] + R * math.cos(point[2]) - W / 2 * math.sin(point[2]) - L * math.cos(point[2])\n",
    "        y = point[1] + R * math.sin(point[2]) + W / 2 * math.cos(point[2]) - L * math.sin(point[2])\n",
    "        rec = plt.Rectangle((x, y), W, L, angle = point[2] * 180 / math.pi - 90, color = 'b')\n",
    "        ax.add_patch(rec)\n",
    "    return ax\n",
    "\n",
    "def plotTrajectory1(trajectory, ax):\n",
    "    for point in trajectory:\n",
    "        # plot the robot\n",
    "        x = point[0] + R * math.cos(point[2]) - W / 2 * math.sin(point[2]) - L * math.cos(point[2])\n",
    "        y = point[1] + R * math.sin(point[2]) + W / 2 * math.cos(point[2]) - L * math.sin(point[2])\n",
    "        rec = plt.Rectangle((x, y), W, L, angle = point[2] * 180 / math.pi - 90, color = 'r')\n",
    "        ax.add_patch(rec)\n",
    "    return ax\n",
    "\n",
    "def plotObstacles(obstacles, ax):\n",
    "    for obstacle in obstacles:\n",
    "        rec = plt.Rectangle((obstacle[0], obstacle[1]), obstacle[2], obstacle[3], angle = obstacle[4], color = 'k')\n",
    "        ax.add_patch(rec)\n",
    "    return ax\n",
    "\n",
    "def plotPoint(point, ax):\n",
    "    # plot arrow\n",
    "    plt.arrow(point[0], point[1], 0.5 * np.cos(point[2]),0.5 * np.sin(point[2]), color = 'r', width = m / 100)\n",
    "    # plot center point \n",
    "    plt.plot(point[0], point[1], 'bo')\n",
    "    # plot robot \n",
    "    x = point[0] + R * math.cos(point[2]) - W / 2 * math.sin(point[2]) - L * math.cos(point[2])\n",
    "    y = point[1] + R * math.sin(point[2]) + W / 2 * math.cos(point[2]) - L * math.sin(point[2])\n",
    "    rec = plt.Rectangle((x, y), W, L, angle = point[2] * 180 / math.pi - 90, color = 'b')\n",
    "    ax.add_patch(rec)\n",
    "    return ax"
   ]
  },
  {
   "cell_type": "code",
   "execution_count": 14,
   "metadata": {},
   "outputs": [],
   "source": [
    "def trajectory_time(trajectory):\n",
    "    t = 0\n",
    "    for i in range(len(trajectory) - 1):\n",
    "        dx = trajectory[i + 1][0] - trajectory[i][0]\n",
    "        dy = trajectory[i + 1][1] - trajectory[i][1]\n",
    "        dz = trajectory[i + 1][2] - trajectory[i][2]\n",
    "        t += math.sqrt(dx ** 2 + dy ** 2) / vx_max + dz / wmax_robot\n",
    "    return t\n",
    "\n",
    "# test performance of RRT\n",
    "def test(s0, s1, RRT, obstacles):\n",
    "    print(\"Target state:       \" + str(s1))\n",
    "\n",
    "    start = time.time()\n",
    "    trajectory, V = RRT(s0, s1, obstacles)\n",
    "    end = time.time()\n",
    "    # Calculation time that RRT needed to find a trajectory\n",
    "    print(\"Calculation time:   \" + str(end - start) + \"s\")\n",
    "\n",
    "    # Calculate number of nodes needed to find a trajectory\n",
    "    space = len(V)\n",
    "    print(\"Number of nodes:    \" + str(space))\n",
    "\n",
    "    # Calculate time that the robot needed to go using the generated RRT trajectory\n",
    "    t = trajectory_time(trajectory)\n",
    "    print(\"Robot running time: \" + str(t) + \"s\")\n",
    "\n",
    "    # plot trajectory figure\n",
    "    fig = plt.figure()\n",
    "    ax = fig.add_subplot(1, 1, 1)\n",
    "    # plot the map\n",
    "    plt.xlim([0, m])\n",
    "    plt.ylim([0, n])\n",
    "    plt.xticks(np.arange(0, m + 1, m / 5))\n",
    "    plt.yticks(np.arange(0, n + 1, n / 5))\n",
    "    plt.grid()\n",
    "    # plot obstacles\n",
    "    plotObstacles(obstacles, ax)\n",
    "\n",
    "    # plot start and goal statee\n",
    "    plotPoint(s0, ax)\n",
    "    plotPoint(s1, ax)\n",
    "    # plot trajectory\n",
    "    plotTrajectory(trajectory, ax)\n",
    "\n",
    "    plt.axis(\"square\")"
   ]
  },
  {
   "cell_type": "code",
   "execution_count": 15,
   "metadata": {},
   "outputs": [
    {
     "name": "stdout",
     "output_type": "stream",
     "text": [
      "Target state:       [200, 200, 0]\n",
      "Calculation time:   0.01427316665649414s\n",
      "Number of nodes:    3\n",
      "Robot running time: 1.1s\n"
     ]
    },
    {
     "data": {
      "image/png": "[encoded data removed]",
      "text/plain": [
       "<Figure size 432x288 with 1 Axes>"
      ]
     },
     "metadata": {
      "needs_background": "light"
     },
     "output_type": "display_data"
    }
   ],
   "source": [
    "test(s0, [200,200,0], RRT, obstacles)"
   ]
  },
  {
   "cell_type": "code",
   "execution_count": 16,
   "metadata": {},
   "outputs": [
    {
     "name": "stdout",
     "output_type": "stream",
     "text": [
      "Target state:       [2000, 2000, 0]\n",
      "Calculation time:   8.609843015670776s\n",
      "Number of nodes:    808\n",
      "Robot running time: 29.816906267519784s\n"
     ]
    },
    {
     "data": {
      "image/png": "[encoded data removed]",
      "text/plain": [
       "<Figure size 432x288 with 1 Axes>"
      ]
     },
     "metadata": {
      "needs_background": "light"
     },
     "output_type": "display_data"
    }
   ],
   "source": [
    "test(s0, [2000,2000,0], RRT, obstacles)"
   ]
  },
  {
   "cell_type": "code",
   "execution_count": 17,
   "metadata": {},
   "outputs": [
    {
     "name": "stdout",
     "output_type": "stream",
     "text": [
      "Target state:       [4000, 4500, 0]\n",
      "Calculation time:   15.546513319015503s\n",
      "Number of nodes:    1461\n",
      "Robot running time: 54.37225194989524s\n"
     ]
    },
    {
     "data": {
      "image/png": "[encoded data removed]",
      "text/plain": [
       "<Figure size 432x288 with 1 Axes>"
      ]
     },
     "metadata": {
      "needs_background": "light"
     },
     "output_type": "display_data"
    }
   ],
   "source": [
    "test(s0, [4000,4500,0], RRT, obstacles)"
   ]
  },
  {
   "cell_type": "code",
   "execution_count": 18,
   "metadata": {},
   "outputs": [],
   "source": [
    "def RRTstar(s0, s1, obstacles):\n",
    "    V = [Node(s0)]\n",
    "    end = Node(s0)\n",
    "    while ((end.state[0] - s1[0]) / vx_max) ** 2 + ((end.state[1] - s1[1]) / vy_max) ** 2 + ((end.state[2] - s1[2]) / wmax_robot) ** 2 >= 1:     \n",
    "        # get a random point            \n",
    "        randompoint = [random.uniform(0, m), random.uniform(0, n), random.uniform(0, 2 * math.pi)]\n",
    "        # find the closest node to the random point\n",
    "        start = find_closestNode(V, randompoint)\n",
    "        # generate a trajectory from the closest starting point to the random point\n",
    "        trajectory = generate_trajectory(start.state, randompoint)[0]\n",
    "        # start.t\n",
    "        mintime = trajectory_time(trajectory) + start.t\n",
    "        # if not collision, add it into V\n",
    "        if not isCollisionTrajectory(trajectory, obstacles):\n",
    "            end = Node(trajectory[-1])\n",
    "            end.parent = start\n",
    "            end.t = mintime\n",
    "            # check if end has a better parent\n",
    "            for node in V:\n",
    "                trajectory1 = generate_trajectory(node.state, end.state)[0]\n",
    "                if trajectory1[-1] == end.state and trajectory_time(trajectory1) + node.t < end.t:\n",
    "                    end.parent = node\n",
    "                    end.t = trajectory_time(trajectory1) + node.t\n",
    "            # check if end is a better parent\n",
    "            for node in V:\n",
    "                trajectory1 = generate_trajectory(end.state, node.state)[0]\n",
    "                if not isCollisionTrajectory(trajectory1, obstacles):\n",
    "                    if  trajectory1[-1] == node.state and end.t + trajectory_time(trajectory1)  < node.t:\n",
    "                        node.parent = end\n",
    "                        node.t = end.t + trajectory_time(trajectory1)\n",
    "            V.append(end)\n",
    "\n",
    "    trajectory = [end.state]\n",
    "    while (end.state != s0):\n",
    "        trajectory.append(end.parent.state)\n",
    "        end = end.parent\n",
    "    return trajectory, V"
   ]
  },
  {
   "cell_type": "code",
   "execution_count": 19,
   "metadata": {},
   "outputs": [
    {
     "name": "stdout",
     "output_type": "stream",
     "text": [
      "Target state:       [4000, 4500, 0]\n",
      "868\n",
      "Calculation time:   2278.8870601654053s\n",
      "Number of nodes:    868\n",
      "Robot running time: 52.775395203561445s\n"
     ]
    },
    {
     "data": {
      "image/png": "[encoded data removed]",
      "text/plain": [
       "<Figure size 432x288 with 1 Axes>"
      ]
     },
     "metadata": {
      "needs_background": "light"
     },
     "output_type": "display_data"
    }
   ],
   "source": [
    "test(s0, [4000,4500,0], RRTstar, obstacles)"
   ]
  },
  {
   "cell_type": "code",
   "execution_count": null,
   "metadata": {},
   "outputs": [],
   "source": []
  }
 ],
 "metadata": {
  "kernelspec": {
   "display_name": "Python 3",
   "language": "python",
   "name": "python3"
  },
  "language_info": {
   "codemirror_mode": {
    "name": "ipython",
    "version": 3
   },
   "file_extension": ".py",
   "mimetype": "text/x-python",
   "name": "python",
   "nbconvert_exporter": "python",
   "pygments_lexer": "ipython3",
   "version": "3.7.6"
  }
 },
 "nbformat": 4,
 "nbformat_minor": 4
}
